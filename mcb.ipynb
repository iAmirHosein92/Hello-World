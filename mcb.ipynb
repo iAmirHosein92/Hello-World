{
 "cells": [
  {
   "cell_type": "code",
   "execution_count": 3,
   "metadata": {},
   "outputs": [],
   "source": [
    "import shelve,pyperclip,sys,os\n",
    "\n",
    "os.chdir(r\"C:\\Users\\Amirhossein\\Desktop\\Python\\Practice MySelf\\Automate Boring Stuff with Python\\Chapter 9\\MCB\")\n",
    "\n",
    "mcbShelf = shelve.open(\"mcb\")\n",
    "\n",
    "\n",
    "if len(sys.argv) == 3 and sys.argv[1].lower == \"save\":\n",
    "    mcbShelf[sys.argv[2]] = pyperclip.paste()\n",
    "elif len(sys.argv) == 2:\n",
    "    if sys.argv[1].lower() == \"list\":\n",
    "        pyperclip.copy(str(list(mcbShelf.keys())))\n",
    "    elif sys.argv[1] in mcbShelf:\n",
    "        pyperclip.copy(mcbShelf[sys.argv[1]])\n",
    "    \n",
    "mcbShelf.close()"
   ]
  }
 ],
 "metadata": {
  "kernelspec": {
   "display_name": "Python 3",
   "language": "python",
   "name": "python3"
  },
  "language_info": {
   "codemirror_mode": {
    "name": "ipython",
    "version": 3
   },
   "file_extension": ".py",
   "mimetype": "text/x-python",
   "name": "python",
   "nbconvert_exporter": "python",
   "pygments_lexer": "ipython3",
   "version": "3.10.11"
  }
 },
 "nbformat": 4,
 "nbformat_minor": 2
}
