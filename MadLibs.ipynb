{
 "cells": [
  {
   "cell_type": "code",
   "execution_count": 147,
   "metadata": {},
   "outputs": [
    {
     "name": "stdout",
     "output_type": "stream",
     "text": [
      "The 1 panda 2 to the 3 and then 4.A nearby 5 was 6 by 7 events.\n"
     ]
    }
   ],
   "source": [
    "import re,os\n",
    "\n",
    "jomle = \"The ADJECTIVE panda VERB to the NOUN and then VERB.A nearby NOUN was NOUN by ADJECTIVE events.\"\n",
    "os.chdir(r\"C:\\Users\\Amirhossein\\Desktop\\Python\\Practice MySelf\\Automate Boring Stuff with Python\\Chapter 9\\FinalProjects\")\n",
    "\n",
    "namesRegex = re.compile(r\"ADJECTIVE|NOUN|VERB\")\n",
    "founded_ =namesRegex.findall(jomle)\n",
    "for i in range(len(namesRegex.findall(jomle))):\n",
    "    namesRegex = re.compile(r\"ADJECTIVE|NOUN|VERB\")\n",
    "    jomle = namesRegex.sub(input(f\"{founded_[i]}: \\n\"),jomle,1)\n",
    "\n",
    "print(jomle)\n",
    "\n",
    "madFiles = open(\"NEWMADLABFILES.txt\",\"w\")\n",
    "madFiles.write(jomle)\n",
    "madFiles.close()"
   ]
  },
  {
   "cell_type": "code",
   "execution_count": 3,
   "metadata": {},
   "outputs": [],
   "source": [
    "import os,re\n",
    "from pathlib import Path\n",
    "os.chdir(r\"/Users/isilas/Python\")\n",
    "p= Path.cwd()\n",
    "list_of_txt = list(p.glob(\"*.txt\"))\n",
    "result = \"\"\n",
    "user_search = input(\"search:\\n\") \n",
    "for path in list_of_txt:\n",
    "    file = open(path)\n",
    "    line = file.readlines()\n",
    "    for i in range(len(line)):\n",
    "        if user_search in line[i]:\n",
    "            print(line[i])\n",
    "\n",
    "    \n"
   ]
  }
 ],
 "metadata": {
  "kernelspec": {
   "display_name": "Python 3",
   "language": "python",
   "name": "python3"
  },
  "language_info": {
   "codemirror_mode": {
    "name": "ipython",
    "version": 3
   },
   "file_extension": ".py",
   "mimetype": "text/x-python",
   "name": "python",
   "nbconvert_exporter": "python",
   "pygments_lexer": "ipython3",
   "version": "3.10.11"
  }
 },
 "nbformat": 4,
 "nbformat_minor": 2
}
