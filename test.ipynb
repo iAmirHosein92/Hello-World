{
 "cells": [
  {
   "cell_type": "code",
   "execution_count": null,
   "metadata": {},
   "outputs": [
    {
     "data": {
      "text/plain": [
       "'spam\\\\bacon\\\\eggs'"
      ]
     },
     "execution_count": 2,
     "metadata": {},
     "output_type": "execute_result"
    }
   ],
   "source": [
    "from pathlib import Path\n",
    "str(Path(\"spam\",\"bacon\",\"eggs\"))"
   ]
  },
  {
   "cell_type": "code",
   "execution_count": 3,
   "metadata": {},
   "outputs": [
    {
     "name": "stdout",
     "output_type": "stream",
     "text": [
      "C:\\Users\\Amirhosein\\accounts.txt\n",
      "C:\\Users\\Amirhosein\\details.csv\n",
      "C:\\Users\\Amirhosein\\invite.docx\n"
     ]
    }
   ],
   "source": [
    "from pathlib import Path\n",
    "myFiles = [\"accounts.txt\",\"details.csv\",\"invite.docx\"]\n",
    "for filename in myFiles:\n",
    "    print(Path(r\"C:\\Users\\Amirhosein\",filename))"
   ]
  },
  {
   "cell_type": "code",
   "execution_count": 7,
   "metadata": {},
   "outputs": [
    {
     "data": {
      "text/plain": [
       "WindowsPath('spam/bacon/eggs')"
      ]
     },
     "execution_count": 7,
     "metadata": {},
     "output_type": "execute_result"
    }
   ],
   "source": [
    "from pathlib import Path\n",
    "Path (\"spam\")/\"bacon\"/\"eggs\"\n",
    "Path (\"spam\")/ Path(\"bacon/eggs\")\n",
    "Path (\"spam\")/ Path(\"bacon\",\"eggs\")"
   ]
  },
  {
   "cell_type": "code",
   "execution_count": 10,
   "metadata": {},
   "outputs": [
    {
     "name": "stdout",
     "output_type": "stream",
     "text": [
      "C:\\Users\\Amir\\spam\n"
     ]
    },
    {
     "data": {
      "text/plain": [
       "'C:\\\\Users\\\\Amir\\\\spam'"
      ]
     },
     "execution_count": 10,
     "metadata": {},
     "output_type": "execute_result"
    }
   ],
   "source": [
    "from pathlib import Path\n",
    "homeFolder = Path(\"C:/Users/Amir\")\n",
    "subFolder = Path(\"spam\")\n",
    "print(homeFolder / subFolder)\n",
    "str(homeFolder/subFolder)"
   ]
  },
  {
   "cell_type": "code",
   "execution_count": 21,
   "metadata": {},
   "outputs": [
    {
     "data": {
      "text/plain": [
       "'..\\\\..\\\\Windows'"
      ]
     },
     "execution_count": 21,
     "metadata": {},
     "output_type": "execute_result"
    }
   ],
   "source": [
    "from pathlib import Path\n",
    "import os\n",
    "Path.cwd()\n",
    "os.chdir(r\"c:\\Windows\\System32\")\n",
    "Path.cwd()\n",
    "Path.home()\n",
    "#os.makedirs(r\"C:\\Users\\Amirhossein\\Desktop\\Python\\Practice MySelf\\Automate Boring Stuff with Python\\Chapter 9\\makingNewFolderforTest\\walnut\\waffles\")\n",
    "#Path.cwd().is_absolute()\n",
    "os.path.abspath(\"C:/Users/Amirhossein\")\n",
    "os.path.isabs(r\"C:/Users/Amirhossein\")\n",
    "os.path.relpath(r\"C:\\Windows\",r\"C:\\spam\\eggs\")"
   ]
  },
  {
   "cell_type": "code",
   "execution_count": 31,
   "metadata": {},
   "outputs": [
    {
     "name": "stdout",
     "output_type": "stream",
     "text": [
      "2222261156\n"
     ]
    }
   ],
   "source": [
    "from pathlib import Path\n",
    "import os\n",
    "\n",
    "calcFilePath = r\"C:\\Windows\\System32\\calc.exe\"\n",
    "os.path.basename(calcFilePath)\n",
    "os.path.dirname(calcFilePath)\n",
    "os.path.split(calcFilePath)\n",
    "calcFilePath.split(os.sep)\n",
    "os.path.getsize(calcFilePath)\n",
    "os.listdir(r\"C:\\Windows\\System32\")\n",
    "#to find total size of all files in this directory:\n",
    "totalszie = 0\n",
    "for filename in os.listdir(r\"C:\\Windows\\System32\"):\n",
    "    totalszie += os.path.getsize(os.path.join(r\"C:\\Windows\\System32\",filename))\n",
    "print(totalszie)"
   ]
  },
  {
   "cell_type": "code",
   "execution_count": 50,
   "metadata": {},
   "outputs": [
    {
     "data": {
      "text/plain": [
       "True"
      ]
     },
     "execution_count": 50,
     "metadata": {},
     "output_type": "execute_result"
    }
   ],
   "source": [
    "from pathlib import Path\n",
    "import os\n",
    "p = Path(\"C:/Users/Amirhossein/Desktop\")\n",
    "p.glob(\"*\")\n",
    "list(p.glob(\"*\"))\n",
    "list(p.glob(\"*.?n?\"))\n",
    "p.exists()\n",
    "p.is_file()\n",
    "p.is_dir()"
   ]
  },
  {
   "cell_type": "code",
   "execution_count": 71,
   "metadata": {},
   "outputs": [
    {
     "name": "stdout",
     "output_type": "stream",
     "text": [
      "Hello\n",
      "world!\n",
      "Bacon is not a vegetable.\n"
     ]
    }
   ],
   "source": [
    "from pathlib import Path\n",
    "import os\n",
    "os.chdir(r\"C:\\Users\\Amirhossein\\Desktop\\Python\\Practice MySelf\\Automate Boring Stuff with Python\\Chapter 9\\makingNewFolderforTest\\walnut\\waffles\")\n",
    "filePath = (r\"C:\\Users\\Amirhossein\\Desktop\\Python\\Practice MySelf\\Automate Boring Stuff with Python\\Chapter 9\\makingNewFolderforTest\\walnut\\waffles\\spam.txt\")\n",
    "p = Path(\"spam.txt\")\n",
    "p.write_text('Hello, World!')\n",
    "p.read_text()\n",
    "open(filePath)\n",
    "helloFile = open(filePath)\n",
    "helloContent = helloFile.read()\n",
    "helloContent\n",
    "baconFile = open(\"bacon.txt\",\"w\")\n",
    "baconFile.write(\"Hello\\nworld!\\n\")\n",
    "baconFile.close()\n",
    "baconFile = open(\"bacon.txt\",\"a\")\n",
    "baconFile.write(\"Bacon is not a vegetable.\")\n",
    "baconFile.close()\n",
    "baconFile=open(\"bacon.txt\")\n",
    "content = baconFile.read()\n",
    "baconFile.close()\n",
    "print(content)"
   ]
  },
  {
   "cell_type": "code",
   "execution_count": null,
   "metadata": {},
   "outputs": [
    {
     "data": {
      "text/plain": [
       "[['Zophie', 'Pooka', 'Simon']]"
      ]
     },
     "execution_count": 78,
     "metadata": {},
     "output_type": "execute_result"
    }
   ],
   "source": [
    "import shelve\n",
    "shelfFile = shelve.open(\"mydata\")\n",
    "cats = [\"Zophie\",\"Pooka\",\"Simon\"]\n",
    "shelfFile[\"cats\"] = cats\n",
    "shelfFile[\"cats\"]\n",
    "list(shelfFile.keys())\n",
    "list(shelfFile.values())\n",
    "shelfFile.close()"
   ]
  },
  {
   "cell_type": "code",
   "execution_count": 81,
   "metadata": {},
   "outputs": [],
   "source": [
    "import pprint\n",
    "cats = [{\"name\": \"Zophie\",\"desc\":\"chubby\"},{\"name\": \"Pooka\",\"desc\":\"fluffy\"}]\n",
    "pprint.pformat(cats)\n",
    "fileObj = open(\"myCats.py\",\"w\")\n",
    "fileObj.write(\"cats = \" + pprint.pformat(cats) + \"\\n\")\n",
    "fileObj.close()"
   ]
  },
  {
   "cell_type": "code",
   "execution_count": 83,
   "metadata": {},
   "outputs": [
    {
     "data": {
      "text/plain": [
       "'Zophie'"
      ]
     },
     "execution_count": 83,
     "metadata": {},
     "output_type": "execute_result"
    }
   ],
   "source": [
    "import myCats\n",
    "myCats.cats[0][\"name\"]"
   ]
  },
  {
   "cell_type": "code",
   "execution_count": 91,
   "metadata": {},
   "outputs": [
    {
     "name": "stdout",
     "output_type": "stream",
     "text": [
      "['Simon', 'Zophie', 'Pooka']\n"
     ]
    }
   ],
   "source": [
    "import random\n",
    "cats = [\"Zophie\",\"Pooka\",\"Simon\"]\n",
    "random.shuffle(cats)\n",
    "print(cats)"
   ]
  }
 ],
 "metadata": {
  "kernelspec": {
   "display_name": "Python 3",
   "language": "python",
   "name": "python3"
  },
  "language_info": {
   "codemirror_mode": {
    "name": "ipython",
    "version": 3
   },
   "file_extension": ".py",
   "mimetype": "text/x-python",
   "name": "python",
   "nbconvert_exporter": "python",
   "pygments_lexer": "ipython3",
   "version": "3.10.11"
  }
 },
 "nbformat": 4,
 "nbformat_minor": 2
}
