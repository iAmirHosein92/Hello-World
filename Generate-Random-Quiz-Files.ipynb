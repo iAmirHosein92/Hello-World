{
 "cells": [
  {
   "cell_type": "code",
   "execution_count": 96,
   "metadata": {},
   "outputs": [],
   "source": [
    "question = [{\"type\":\"multiple\",\"difficulty\":\"hard\",\"category\":\"Science: Computers\",\"question\":\"How many Hz does the video standard PAL support?\",\"correct_answer\":\"50\",\"incorrect_answers\":[\"59\",\"60\",\"25\"]},{\"type\":\"multiple\",\"difficulty\":\"easy\",\"category\":\"Entertainment: Video Games\",\"question\":\"Who is the main protagonist of Dead Space?\",\"correct_answer\":\"Isaac Clarke\",\"incorrect_answers\":[\"Commander Shepard\",\"Gordon Freeman\",\"Master Chief\"]},{\"type\":\"multiple\",\"difficulty\":\"hard\",\"category\":\"Entertainment: Film\",\"question\":\"Which singer is portrayed by Bruce Campbell in the 2002 film Bubba Ho-Tep?\",\"correct_answer\":\"Elvis Presley\",\"incorrect_answers\":[\"Johnny Cash\",\"Hank Williams, Sr.\",\"Buddy Holly\"]},{\"type\":\"multiple\",\"difficulty\":\"medium\",\"category\":\"Entertainment: Video Games\",\"question\":\"What was the main currency in Club Penguin?\",\"correct_answer\":\"Coins\",\"incorrect_answers\":[\"Stamps\",\"Tickets\",\"Gems\"]},{\"type\":\"multiple\",\"difficulty\":\"hard\",\"category\":\"Entertainment: Books\",\"question\":\"Which fictional English county was the setting for Thomas Hardys novels?\",\"correct_answer\":\"Wessex\",\"incorrect_answers\":[\"Barsetshire\",\"Fulchester\",\"Ambridge\"]},{\"type\":\"multiple\",\"difficulty\":\"easy\",\"category\":\"Entertainment: Video Games\",\"question\":\"The Khajiit are a race of cat-like creatures from which epic series of role-playing games, set across the land of Tamriel?\",\"correct_answer\":\"The Elder Scrolls\",\"incorrect_answers\":[\"Lord of the Rings\",\"The Witcher\",\"Neverwinter Nights\"]},{\"type\":\"multiple\",\"difficulty\":\"medium\",\"category\":\"Entertainment: Video Games\",\"question\":\"How much did the indie game |Cave Story| cost when it was first released in 2004?\",\"correct_answer\":\"$0 USD\",\"incorrect_answers\":[\"$5 USD\",\"$10 USD\",\"$15 USD\"]},{\"type\":\"multiple\",\"difficulty\":\"medium\",\"category\":\"Entertainment: Video Games\",\"question\":\"What was the FIRST Valve game to have VR?\",\"correct_answer\":\"The Lab\",\"incorrect_answers\":[\"Dota 2\",\"Destinations\",\"Half-Life 2\"]},{\"type\":\"multiple\",\"difficulty\":\"easy\",\"category\":\"Geography\",\"question\":\"All of the following are classified as Finno-Ugric languages EXCEPT:\",\"correct_answer\":\"Samoyedic\",\"incorrect_answers\":[\"Hungarian\",\"Finnish\",\"Estonian\"]},{\"type\":\"multiple\",\"difficulty\":\"medium\",\"category\":\"Science: Computers\",\"question\":\"How fast is USB 3.1 Gen 2 theoretically?\",\"correct_answer\":\"10 Gb\\/s\",\"incorrect_answers\":[\"5 Gb\\/s\",\"8 Gb\\/s\",\"1 Gb\\/s\"]},{\"type\":\"multiple\",\"difficulty\":\"hard\",\"category\":\"Entertainment: Japanese Anime &amp; Manga\",\"question\":\"Which animation studio animated |Hidamari Sketch|?\",\"correct_answer\":\"Shaft\",\"incorrect_answers\":[\"Trigger\",\"Kyoto Animation\",\"Production I.G\"]},{\"type\":\"multiple\",\"difficulty\":\"medium\",\"category\":\"Sports\",\"question\":\"Who won the 2015 College Football Playoff (CFP) National Championship? \",\"correct_answer\":\"Ohio State Buckeyes\",\"incorrect_answers\":[\"Alabama Crimson Tide\",\"Clemson Tigers\",\"Wisconsin Badgers\"]},{\"type\":\"multiple\",\"difficulty\":\"easy\",\"category\":\"Entertainment: Books\",\"question\":\"Who was the original author of Frankenstein?\",\"correct_answer\":\"Mary Shelley\",\"incorrect_answers\":[\"Edgar Allan Poe\",\"Bram Stoker\",\"H. P. Lovecraft\"]},{\"type\":\"multiple\",\"difficulty\":\"easy\",\"category\":\"History\",\"question\":\"In what year was the M1911 pistol designed?\",\"correct_answer\":\"1911\",\"incorrect_answers\":[\"1907\",\"1899\",\"1917\"]},{\"type\":\"multiple\",\"difficulty\":\"medium\",\"category\":\"Entertainment: Music\",\"question\":\"EDM producer Marshmello performs live wearing clothes and a marshmallow mask of what colour?\",\"correct_answer\":\"White\",\"incorrect_answers\":[\"Black\",\"Blue\",\"Yellow\"]},{\"type\":\"multiple\",\"difficulty\":\"medium\",\"category\":\"Sports\",\"question\":\"How many games did Arsenal FC go unbeaten during the 2003-2004 season of the English Premier League\",\"correct_answer\":\"38\",\"incorrect_answers\":[\"51\",\"49\",\"22\"]},{\"type\":\"multiple\",\"difficulty\":\"medium\",\"category\":\"Art\",\"question\":\"What nationality was the surrealist painter Salvador Dali?\",\"correct_answer\":\"Spanish\",\"incorrect_answers\":[\"Italian\",\"French\",\"Portuguese\"]},{\"type\":\"multiple\",\"difficulty\":\"medium\",\"category\":\"Geography\",\"question\":\"What mountain range lines the border between Spain and France?\",\"correct_answer\":\"Pyrenees\",\"incorrect_answers\":[\"Alps\",\"Carpathians\",\"Urals\"]},{\"type\":\"multiple\",\"difficulty\":\"hard\",\"category\":\"Entertainment: Music\",\"question\":\"Which year was the album |Floral Shoppe| by Macintosh Plus released?\",\"correct_answer\":\"2011\",\"incorrect_answers\":[\"2014\",\"2013\",\"2012\"]},{\"type\":\"multiple\",\"difficulty\":\"easy\",\"category\":\"Entertainment: Video Games\",\"question\":\"What was the original name of Crash Bandicoot?\",\"correct_answer\":\"Willie Wombat\",\"incorrect_answers\":[\"Coco Bandicoot\",\"Marvelous Mole\",\"Wally Wombat\"]},{\"type\":\"multiple\",\"difficulty\":\"hard\",\"category\":\"Entertainment: Video Games\",\"question\":\"In |Super Mario Sunshine|, how do you unlock the |Corona Mountain| level?\",\"correct_answer\":\"By clearing every 7th episode\",\"incorrect_answers\":[\"By obtaining 70 Shines\",\"By clearing every episode involving a |Secret|\",\"By unlocking every nozzle F.L.U.D.D can use\"]},{\"type\":\"multiple\",\"difficulty\":\"medium\",\"category\":\"Entertainment: Music\",\"question\":\"Which of the following guitarists recorded an album as a member of the Red Hot Chili Peppers?\",\"correct_answer\":\"Dave Navarro\",\"incorrect_answers\":[\"Tom Morello \",\"Billy Corgan\",\"Ed OBrien\"]},{\"type\":\"multiple\",\"difficulty\":\"medium\",\"category\":\"Entertainment: Japanese Anime &amp; Manga\",\"question\":\"In |Little Witch Academia|, what is Shiny Chariots alias at Luna Nova Academy?\",\"correct_answer\":\"Ursula Callistis\",\"incorrect_answers\":[\"Croix Meridies\",\"Miranda Holbrook\",\"Anne Finnelan\"]},{\"type\":\"multiple\",\"difficulty\":\"medium\",\"category\":\"Entertainment: Music\",\"question\":\"Who had a 1973 hit with the song Hocus Pocus?\",\"correct_answer\":\"Focus\",\"incorrect_answers\":[\"Pilot\",\"Rush\",\"AC\\/DC\"]},{\"type\":\"multiple\",\"difficulty\":\"easy\",\"category\":\"Entertainment: Television\",\"question\":\"How many seasons did the Sci-Fi television show |Stargate Universe| have?\",\"correct_answer\":\"2\",\"incorrect_answers\":[\"10\",\"5\",\"3\"]},{\"type\":\"multiple\",\"difficulty\":\"hard\",\"category\":\"Entertainment: Video Games\",\"question\":\"In the Kingdom Hearts series, which is not an optional boss you can fight?\",\"correct_answer\":\"Master Yen Sid\",\"incorrect_answers\":[\"Sephiroth\",\"Julius\",\"Kurt Zisa\"]},{\"type\":\"multiple\",\"difficulty\":\"hard\",\"category\":\"Science &amp; Nature\",\"question\":\"Which horizon in a soil profile consists of bedrock?\",\"correct_answer\":\"R\",\"incorrect_answers\":[\"O\",\"B\",\"D\"]},{\"type\":\"multiple\",\"difficulty\":\"medium\",\"category\":\"Science &amp; Nature\",\"question\":\"Gannymede is the largest moon of which planet?\",\"correct_answer\":\"Jupiter\",\"incorrect_answers\":[\"Uranus\",\"Neptune\",\"Mars\"]},{\"type\":\"multiple\",\"difficulty\":\"easy\",\"category\":\"Geography\",\"question\":\"The longest shared border in the world can be found between which two nations?\",\"correct_answer\":\"Canada and the United States\",\"incorrect_answers\":[\"Chile and Argentina\",\"Russia and China\",\"India and Pakistan\"]},{\"type\":\"multiple\",\"difficulty\":\"medium\",\"category\":\"Entertainment: Music\",\"question\":\"What French artist\\/band is known for playing on the midi instrument |Launchpad|?\",\"correct_answer\":\"Madeon\",\"incorrect_answers\":[\"Daft Punk \",\"Disclosure\",\"David Guetta\"]},{\"type\":\"multiple\",\"difficulty\":\"hard\",\"category\":\"Politics\",\"question\":\"Which letter do you need to have on a European driver license in order to ride any motorbikes?\",\"correct_answer\":\"A\",\"incorrect_answers\":[\"X\",\"D\",\"B\"]},{\"type\":\"multiple\",\"difficulty\":\"easy\",\"category\":\"Entertainment: Television\",\"question\":\"On the show |Rick and Morty|, in episode |Total Rickall|, who was a parasite?\",\"correct_answer\":\"Pencilvester\",\"incorrect_answers\":[\"Beth Smith\",\"Summer Smith\",\"Mr. Poopy Butthole\"]},{\"type\":\"multiple\",\"difficulty\":\"medium\",\"category\":\"Entertainment: Video Games\",\"question\":\"Who is the half-demon character in Divinity: Original Sin 2 who you talk to to transition between acts?\",\"correct_answer\":\"Malady\",\"incorrect_answers\":[\"Meister Siva\",\"Gawin\",\"Exter\"]},{\"type\":\"multiple\",\"difficulty\":\"hard\",\"category\":\"Entertainment: Cartoon &amp; Animations\",\"question\":\"In |Gravity Falls|, how much does Waddles weigh when Mable wins him in |The Time Travelers Pig|?\",\"correct_answer\":\"15 pounds\",\"incorrect_answers\":[\"20 pounds\",\"10 pounds\",\"30 pounds\"]},{\"type\":\"multiple\",\"difficulty\":\"hard\",\"category\":\"Entertainment: Japanese Anime &amp; Manga\",\"question\":\"In |Hunter x Hunter|, what are members in Killuas family known for being?\",\"correct_answer\":\"Assassins\",\"incorrect_answers\":[\"Bandits\",\"Hunters\",\"Ninjas\"]},{\"type\":\"multiple\",\"difficulty\":\"easy\",\"category\":\"Mythology\",\"question\":\"What mytological creatures have womens faces and vultures bodies?\",\"correct_answer\":\"Harpies\",\"incorrect_answers\":[\"Mermaids\",\"Nymph\",\"Lilith\"]},{\"type\":\"multiple\",\"difficulty\":\"easy\",\"category\":\"Sports\",\"question\":\"Which English football club has the nickname The Foxes?\",\"correct_answer\":\"Leicester City\",\"incorrect_answers\":[\"Northampton Town\",\"Bradford City\",\"West Bromwich Albion\"]},{\"type\":\"multiple\",\"difficulty\":\"easy\",\"category\":\"History\",\"question\":\"Which of the following African countries was most successful in resisting colonization?\",\"correct_answer\":\"Ethiopia\",\"incorrect_answers\":[\"C&ocirc;te d&rsquo;Ivoire\",\"Congo\",\"Namibia\"]},{\"type\":\"multiple\",\"difficulty\":\"easy\",\"category\":\"Entertainment: Board Games\",\"question\":\"How many pieces are there on the board at the start of a game of chess?\",\"correct_answer\":\"32\",\"incorrect_answers\":[\"16\",\"20\",\"36\"]},{\"type\":\"multiple\",\"difficulty\":\"easy\",\"category\":\"Sports\",\"question\":\"Which player holds the NHL record of 2,857 points?\",\"correct_answer\":\"Wayne Gretzky\",\"incorrect_answers\":[\"Mario Lemieux \",\"Sidney Crosby\",\"Gordie Howe\"]},{\"type\":\"multiple\",\"difficulty\":\"easy\",\"category\":\"Entertainment: Books\",\"question\":\"Who wrote |A Tale of Two Cities|?\",\"correct_answer\":\"Charles Dickens\",\"incorrect_answers\":[\"Charles Darwin\",\"Mark Twain\",\"Roald Dahl\"]},{\"type\":\"multiple\",\"difficulty\":\"easy\",\"category\":\"Entertainment: Video Games\",\"question\":\"Which franchise does the creature |Slowpoke| originate from?\",\"correct_answer\":\"Pokemon\",\"incorrect_answers\":[\"Dragon Ball\",\"Sonic The Hedgehog\",\"Yugioh\"]},{\"type\":\"multiple\",\"difficulty\":\"easy\",\"category\":\"Geography\",\"question\":\"Which of the following Japanese islands is the biggest?\",\"correct_answer\":\"Honshu\",\"incorrect_answers\":[\"Hokkaido\",\"Shikoku\",\"Kyushu\"]},{\"type\":\"multiple\",\"difficulty\":\"easy\",\"category\":\"Entertainment: Film\",\"question\":\"What was the title of the first Bond movie, released in 1962?\",\"correct_answer\":\"Dr. No\",\"incorrect_answers\":[\"From Russia with Love\",\"Goldfinger\",\"Thunderball\"]},{\"type\":\"multiple\",\"difficulty\":\"easy\",\"category\":\"Entertainment: Music\",\"question\":\"Finish these lyrics from the 2016 song |Panda| by Desiigner: |I got broads in _______|.\",\"correct_answer\":\"Atlanta\",\"incorrect_answers\":[\"Savannah\",\"Augusta\",\"Marietta\"]},{\"type\":\"multiple\",\"difficulty\":\"easy\",\"category\":\"Entertainment: Cartoon &amp; Animations\",\"question\":\"In the 1993 Disney animated series |Bonkers|, what is the name of Bonkers second partner?\",\"correct_answer\":\"Miranda Wright\",\"incorrect_answers\":[\"Dick Tracy\",\"Eddie Valiant\",\"Dr. Ludwig von Drake\"]},{\"type\":\"multiple\",\"difficulty\":\"easy\",\"category\":\"Entertainment: Japanese Anime &amp; Manga\",\"question\":\"In |A Certain Scientific Railgun|, how many |sisters| did Accelerator have to kill to achieve the rumored level 6?\",\"correct_answer\":\"20,000\",\"incorrect_answers\":[\"128\",\"10,000\",\"5,000\"]},{\"type\":\"multiple\",\"difficulty\":\"easy\",\"category\":\"Entertainment: Video Games\",\"question\":\"Rocket League is a game which features..\",\"correct_answer\":\"Cars\",\"incorrect_answers\":[\"Helicopters\",\"Planes\",\"Submarines\"]},{\"type\":\"multiple\",\"difficulty\":\"easy\",\"category\":\"Vehicles\",\"question\":\"What are the cylinder-like parts that pump up and down within the engine?\",\"correct_answer\":\"Pistons\",\"incorrect_answers\":[\"Leaf Springs\",\"Radiators\",\"ABS\"]},{\"type\":\"multiple\",\"difficulty\":\"easy\",\"category\":\"Entertainment: Cartoon &amp; Animations\",\"question\":\"Which Teenage Mutant Ninja Turtle traditionally wears an orange bandana?\",\"correct_answer\":\"Michelangelo\",\"incorrect_answers\":[\"Leonardo\",\"Donatello\",\"Raphael\"]}]\n",
    "#question[index][\"question\"]\n",
    "#question[0][\"correct_answer\"]\n",
    "#question[index][\"incorrect_answers\"]\n"
   ]
  },
  {
   "cell_type": "code",
   "execution_count": 97,
   "metadata": {},
   "outputs": [],
   "source": [
    "def generate_question():\n",
    "    options = []\n",
    "    random_number = random.randint(0,49)\n",
    "    random_question = (question[random_number][\"question\"])\n",
    "    correctAnswer = question[random_number][\"correct_answer\"]\n",
    "    wrongAnswer = question[random_number][\"incorrect_answers\"]\n",
    "    options.append(correctAnswer)\n",
    "    for ans in wrongAnswer:\n",
    "        options.append(ans)\n",
    "    return random_question,options,correctAnswer\n",
    "    "
   ]
  },
  {
   "cell_type": "code",
   "execution_count": 98,
   "metadata": {},
   "outputs": [],
   "source": [
    "import random\n",
    "import os\n",
    "\n",
    "os.chdir(r\"C:\\Users\\Amirhossein\\Desktop\\Python\\Practice MySelf\\Automate Boring Stuff with Python\\Chapter 9\\QuizText\")\n",
    "\n",
    "for quizNum in range(35):\n",
    "    quizFile = open(f\"GeneralKnowledgeQuiz{quizNum + 1}.txt\",\"w\")\n",
    "    answerKeyFile = open(f\"QuizAnswer {quizNum + 1}.txt\",\"w\")\n",
    "    quizFile.write(\"Name :\\n\\nDate:\\n\\nPeriod:\\n\\n\")\n",
    "    quizFile.write((\" \" * 30)+ f\"General Quiz (Form {quizNum + 1})\")\n",
    "    quizFile.write(\"\\n\\n\")\n",
    "    for num in range(50):\n",
    "        question_generated,options_generated,right_answer = generate_question()\n",
    "        quizFile.write(f\"{num+1}.{question_generated}\\n\\n\")\n",
    "        random.shuffle(options_generated)\n",
    "        for i in range(4):\n",
    "            quizFile.write(f\"   {'ABCD'[i]}.{options_generated[i]}\")\n",
    "            quizFile.write(\"\\n\\n\")\n",
    "        answerKeyFile.write(f\"{num + 1}.{right_answer}\\n\")\n",
    "        \n",
    "quizFile.close()\n",
    "answerKeyFile.close()"
   ]
  }
 ],
 "metadata": {
  "kernelspec": {
   "display_name": "Python 3",
   "language": "python",
   "name": "python3"
  },
  "language_info": {
   "codemirror_mode": {
    "name": "ipython",
    "version": 3
   },
   "file_extension": ".py",
   "mimetype": "text/x-python",
   "name": "python",
   "nbconvert_exporter": "python",
   "pygments_lexer": "ipython3",
   "version": "3.10.11"
  }
 },
 "nbformat": 4,
 "nbformat_minor": 2
}
